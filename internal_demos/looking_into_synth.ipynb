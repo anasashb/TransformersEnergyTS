{
 "cells": [
  {
   "cell_type": "code",
   "execution_count": 42,
   "metadata": {},
   "outputs": [],
   "source": [
    "import pandas as pd\n",
    "import numpy as np\n",
    "from sklearn.preprocessing import StandardScaler, MinMaxScaler\n",
    "import matplotlib.pyplot as plt"
   ]
  },
  {
   "cell_type": "code",
   "execution_count": 4,
   "metadata": {},
   "outputs": [],
   "source": [
    "# File paths\n",
    "SYNTH_ADDITIVE_PATH = 'SYNTHDataset/SYNTH_additive.csv'\n",
    "SYNTH_ADITIVE_REVERSALS_PATH = 'SYNTHDataset/SYNTH_additive_reversals.csv'"
   ]
  },
  {
   "cell_type": "code",
   "execution_count": 7,
   "metadata": {},
   "outputs": [],
   "source": [
    "ts_additive = pd.read_csv(SYNTH_ADDITIVE_PATH, index_col=0)\n",
    "ts_additive_reversals = pd.read_csv(SYNTH_ADITIVE_REVERSALS_PATH, index_col=0)"
   ]
  },
  {
   "cell_type": "markdown",
   "metadata": {},
   "source": [
    "Due to the specifics of trends and reversals, the synthetic dataset with trend and the synthetic dataset with trend and reversals have different ranges --- this is due to the fact that the series with additive trend is constantly increasing while the one with reversals does not. We have so far not been able to model reversals in a way that an overall rising trend is maintained, but are working to fix that"
   ]
  },
  {
   "cell_type": "code",
   "execution_count": 27,
   "metadata": {},
   "outputs": [
    {
     "name": "stdout",
     "output_type": "stream",
     "text": [
      "Descriptive Statistics of Synthetic Data with Additive Trend\n",
      "--------------------------------------------------------------------------------\n",
      "          TARGET\n",
      "max   294.487557\n",
      "mean  187.090119\n",
      "std    51.309079\n",
      "min    76.911257\n",
      "================================================================================\n",
      "Descriptive Statistics of Synthetic Data with Additive Trend and Reversals\n",
      "--------------------------------------------------------------------------------\n",
      "          TARGET\n",
      "max   136.278350\n",
      "mean  101.670413\n",
      "std    11.880123\n",
      "min    65.445931\n"
     ]
    }
   ],
   "source": [
    "# Assuming ts_additive is your DataFrame or Series\n",
    "print('Descriptive Statistics of Synthetic Data with Additive Trend')\n",
    "print('-'*80)\n",
    "print(ts_additive.describe().loc[['max', 'mean', 'std', 'min']])\n",
    "print('='*80)\n",
    "print('Descriptive Statistics of Synthetic Data with Additive Trend and Reversals')\n",
    "print('-'*80)\n",
    "print(ts_additive_reversals.describe().loc[['max', 'mean', 'std', 'min']])\n"
   ]
  },
  {
   "cell_type": "markdown",
   "metadata": {},
   "source": [
    "Here I will simulate train-test-split similar to what the models have:"
   ]
  },
  {
   "cell_type": "code",
   "execution_count": 56,
   "metadata": {},
   "outputs": [],
   "source": [
    "border_1 = 12*30*24\n",
    "border_2 = border_1 + 4*30*24\n",
    "border_3 = border_2 + 4*30*24\n",
    "\n",
    "train_additive, val_additive, test_additive = ts_additive[:border_1], ts_additive[border_1:border_2], ts_additive[border_2:border_3]\n",
    "train_aditive_reversals, val_additive_reversals, test_additive_reversals = ts_additive_reversals[:border_1], ts_additive_reversals[border_1:border_2], ts_additive_reversals[border_2:border_3]\n",
    "\n",
    "\n",
    "# I will only transform the test sets just for demonstration\n",
    "scaler = StandardScaler()\n",
    "scaler.fit(train_additive)\n",
    "scaled_test_additive = scaler.transform(test_additive)\n",
    "\n",
    "# Reinitialize just in case\n",
    "scaler = StandardScaler()\n",
    "scaler.fit(train_aditive_reversals)\n",
    "scaled_test_additive_reversals = scaler.transform(test_additive_reversals)"
   ]
  },
  {
   "cell_type": "code",
   "execution_count": 57,
   "metadata": {},
   "outputs": [
    {
     "name": "stdout",
     "output_type": "stream",
     "text": [
      "Descriptive Statistics of Scaled Synthetic Data with Additive Trend\n",
      "--------------------------------------------------------------------------------\n",
      "max     4.4837\n",
      "mean     3.1865\n",
      "std     0.5036\n",
      "min     1.6672\n",
      "================================================================================\n",
      "Descriptive Statistics of Scaled Synthetic Data with Additive Trend and Reversals\n",
      "--------------------------------------------------------------------------------\n",
      "max     1.5657\n",
      "mean     -0.5691\n",
      "std     0.8611\n",
      "min     -3.0646\n",
      "================================================================================\n"
     ]
    }
   ],
   "source": [
    "print('Descriptive Statistics of Scaled Synthetic Data with Additive Trend')\n",
    "print('-'*80)\n",
    "print(f'max     {scaled_test_additive.max():.4f}\\nmean     {scaled_test_additive.mean():.4f}\\nstd     {scaled_test_additive.std():.4f}\\nmin     {scaled_test_additive.min():.4f}')\n",
    "print('='*80)\n",
    "print('Descriptive Statistics of Scaled Synthetic Data with Additive Trend and Reversals')\n",
    "print('-'*80)\n",
    "print(f'max     {scaled_test_additive_reversals.max():.4f}\\nmean     {scaled_test_additive_reversals.mean():.4f}\\nstd     {scaled_test_additive_reversals.std():.4f}\\nmin     {scaled_test_additive_reversals.min():.4f}')\n",
    "print('='*80)\n",
    "\n"
   ]
  },
  {
   "cell_type": "markdown",
   "metadata": {},
   "source": [
    "The discrepancy between the values obtained by StandardScaling and thus difference in the range/scale of MSE scores can be attributed to the fact the two series, one with trend only and one with trend and reversals have different means and different standard deviations.\n",
    "The discrepancy can also be explained by the fact that the scaler is fitted on the training sets and the synthetic series with trend but without reversals is not mean-stationary --- therefore the test set has vastly different mean.\n",
    "\n",
    "One more consideration here is the specifics of the data generator function we use --- in its current form, instead of 'adding' a trend to an existing series per se, it generates a new series with a trend --- this is something that we are working to fix at this moment to tailor the function better to our needs. But with or without that, that range of the synthetic series with trend and synthetic series with trend and reversals is likely to be different due to the specifics of StandardScaling.\n"
   ]
  }
 ],
 "metadata": {
  "kernelspec": {
   "display_name": "ansb",
   "language": "python",
   "name": "python3"
  },
  "language_info": {
   "codemirror_mode": {
    "name": "ipython",
    "version": 3
   },
   "file_extension": ".py",
   "mimetype": "text/x-python",
   "name": "python",
   "nbconvert_exporter": "python",
   "pygments_lexer": "ipython3",
   "version": "3.9.17"
  }
 },
 "nbformat": 4,
 "nbformat_minor": 2
}
